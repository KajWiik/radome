{
 "cells": [
  {
   "cell_type": "markdown",
   "metadata": {},
   "source": [
    "<img src=\"images/title.png\">"
   ]
  },
  {
   "cell_type": "markdown",
   "metadata": {},
   "source": [
    "<img src=\"images/IFR_geometry.png\" width=600>"
   ]
  },
  {
   "cell_type": "code",
   "execution_count": 1,
   "metadata": {},
   "outputs": [],
   "source": [
    "using SpecialFunctions"
   ]
  },
  {
   "cell_type": "code",
   "execution_count": 2,
   "metadata": {},
   "outputs": [
    {
     "data": {
      "text/plain": [
       "besseljprime (generic function with 1 method)"
      ]
     },
     "execution_count": 2,
     "metadata": {},
     "output_type": "execute_result"
    }
   ],
   "source": [
    "besseljprime(ν, x) = (besselj(ν - 1, x) - besselj(ν + 1, x))/2"
   ]
  },
  {
   "cell_type": "code",
   "execution_count": 3,
   "metadata": {},
   "outputs": [
    {
     "data": {
      "text/plain": [
       "hankelh2prime (generic function with 1 method)"
      ]
     },
     "execution_count": 3,
     "metadata": {},
     "output_type": "execute_result"
    }
   ],
   "source": [
    "hankelh2prime(ν, x) = (hankelh2(ν - 1, x) - hankelh2(ν + 1, x))/2"
   ]
  },
  {
   "cell_type": "markdown",
   "metadata": {},
   "source": [
    "<img src=\"images/IFRE.png\" width=600>"
   ]
  },
  {
   "cell_type": "code",
   "execution_count": 78,
   "metadata": {},
   "outputs": [
    {
     "data": {
      "text/plain": [
       "IFRE (generic function with 1 method)"
      ]
     },
     "execution_count": 78,
     "metadata": {},
     "output_type": "execute_result"
    }
   ],
   "source": [
    "function IFRE(w, α)\n",
    "    # w is the support element width in wavelengths\n",
    "    arg = π*w*cos(α)\n",
    "    sum = besselj(0, arg)/hankelh2(0, arg)\n",
    "    prev = 0.0 + 0.0im\n",
    "    for i in 1:100 \n",
    "        sum += besselj(i, arg)/hankelh2(i, arg) + besselj(-i, arg)/hankelh2(-i, arg)\n",
    "        change = abs(sum)/abs(prev)\n",
    "        change = change < 1.0 ? 1/change : change\n",
    "#        println(@sprintf(\"%d %.6f\", i, change))\n",
    "        if change < (1.0 + 1e-9)\n",
    "            break\n",
    "        end\n",
    "        prev = sum\n",
    "    end\n",
    "    return -sum/arg\n",
    "end\n",
    "    \n",
    "        \n",
    "        "
   ]
  },
  {
   "cell_type": "markdown",
   "metadata": {},
   "source": [
    "<img src=\"images/IFRH.png\" width=600>"
   ]
  },
  {
   "cell_type": "code",
   "execution_count": 89,
   "metadata": {},
   "outputs": [
    {
     "data": {
      "text/plain": [
       "IFRH (generic function with 1 method)"
      ]
     },
     "execution_count": 89,
     "metadata": {},
     "output_type": "execute_result"
    }
   ],
   "source": [
    "function IFRH(w, α)\n",
    "    # w is the support element width in wavelengths\n",
    "    arg = π*w*cos(α)\n",
    "    sum = besseljprime(0, arg)/hankelh2prime(0, arg)\n",
    "    prev = 0.0 + 0.0im\n",
    "    for i in 1:100 \n",
    "        sum += besseljprime(i, arg)/hankelh2prime(i, arg) + besseljprime(-i, arg)/hankelh2prime(-i, arg)\n",
    "        change = abs(sum)/abs(prev)\n",
    "        change = change < 1.0 ? 1/change : change\n",
    "#        println(@sprintf(\"%d %.6f\", i, change))\n",
    "        if change < (1.0 + 1e-9)\n",
    "            break\n",
    "        end\n",
    "        prev = sum\n",
    "    end\n",
    "    return -sum/arg\n",
    "end\n"
   ]
  },
  {
   "cell_type": "code",
   "execution_count": 90,
   "metadata": {},
   "outputs": [],
   "source": [
    "using Plots; gr();"
   ]
  },
  {
   "cell_type": "code",
   "execution_count": 91,
   "metadata": {},
   "outputs": [],
   "source": [
    "we = logspace(log10(0.2), log10(20), 200);wh = logspace(log10(0.02), log10(20), 300);"
   ]
  },
  {
   "cell_type": "code",
   "execution_count": 92,
   "metadata": {},
   "outputs": [],
   "source": [
    "ifre = IFRE.(we, 0.0); ifrh = IFRH.(wh, 0.0);"
   ]
  },
  {
   "cell_type": "code",
   "execution_count": 95,
   "metadata": {},
   "outputs": [
    {
     "data": {
      "image/svg+xml": [
       "<?xml version=\"1.0\" encoding=\"utf-8\"?>\n",
       "<svg xmlns=\"http://www.w3.org/2000/svg\" xmlns:xlink=\"http://www.w3.org/1999/xlink\" width=\"600\" height=\"400\" viewBox=\"0 0 600 400\">\n",
       "<defs>\n",
       "  <clipPath id=\"clip7400\">\n",
       "    <rect x=\"0\" y=\"0\" width=\"600\" height=\"400\"/>\n",
       "  </clipPath>\n",
       "</defs>\n",
       "<polygon clip-path=\"url(#clip7400)\" points=\"\n",
       "0,400 600,400 600,0 0,0 \n",
       "  \" fill=\"#ffffff\" fill-opacity=\"1\"/>\n",
       "<defs>\n",
       "  <clipPath id=\"clip7401\">\n",
       "    <rect x=\"120\" y=\"0\" width=\"421\" height=\"400\"/>\n",
       "  </clipPath>\n",
       "</defs>\n",
       "<polygon clip-path=\"url(#clip7400)\" points=\"\n",
       "199.606,360.121 435.959,360.121 435.959,11.811 199.606,11.811 \n",
       "  \" fill=\"#ffffff\" fill-opacity=\"1\"/>\n",
       "<defs>\n",
       "  <clipPath id=\"clip7402\">\n",
       "    <rect x=\"199\" y=\"11\" width=\"237\" height=\"349\"/>\n",
       "  </clipPath>\n",
       "</defs>\n",
       "<polyline clip-path=\"url(#clip7402)\" style=\"stroke:#000000; stroke-width:0.5; stroke-opacity:0.1; fill:none\" points=\"\n",
       "  236.925,360.121 236.925,11.811 \n",
       "  \"/>\n",
       "<polyline clip-path=\"url(#clip7402)\" style=\"stroke:#000000; stroke-width:0.5; stroke-opacity:0.1; fill:none\" points=\"\n",
       "  299.123,360.121 299.123,11.811 \n",
       "  \"/>\n",
       "<polyline clip-path=\"url(#clip7402)\" style=\"stroke:#000000; stroke-width:0.5; stroke-opacity:0.1; fill:none\" points=\"\n",
       "  361.321,360.121 361.321,11.811 \n",
       "  \"/>\n",
       "<polyline clip-path=\"url(#clip7402)\" style=\"stroke:#000000; stroke-width:0.5; stroke-opacity:0.1; fill:none\" points=\"\n",
       "  423.519,360.121 423.519,11.811 \n",
       "  \"/>\n",
       "<polyline clip-path=\"url(#clip7402)\" style=\"stroke:#000000; stroke-width:0.5; stroke-opacity:0.1; fill:none\" points=\"\n",
       "  199.606,322.802 435.959,322.802 \n",
       "  \"/>\n",
       "<polyline clip-path=\"url(#clip7402)\" style=\"stroke:#000000; stroke-width:0.5; stroke-opacity:0.1; fill:none\" points=\"\n",
       "  199.606,260.604 435.959,260.604 \n",
       "  \"/>\n",
       "<polyline clip-path=\"url(#clip7402)\" style=\"stroke:#000000; stroke-width:0.5; stroke-opacity:0.1; fill:none\" points=\"\n",
       "  199.606,198.405 435.959,198.405 \n",
       "  \"/>\n",
       "<polyline clip-path=\"url(#clip7402)\" style=\"stroke:#000000; stroke-width:0.5; stroke-opacity:0.1; fill:none\" points=\"\n",
       "  199.606,136.207 435.959,136.207 \n",
       "  \"/>\n",
       "<polyline clip-path=\"url(#clip7402)\" style=\"stroke:#000000; stroke-width:0.5; stroke-opacity:0.1; fill:none\" points=\"\n",
       "  199.606,74.0092 435.959,74.0092 \n",
       "  \"/>\n",
       "<polyline clip-path=\"url(#clip7402)\" style=\"stroke:#000000; stroke-width:0.5; stroke-opacity:0.1; fill:none\" points=\"\n",
       "  199.606,11.811 435.959,11.811 \n",
       "  \"/>\n",
       "<polyline clip-path=\"url(#clip7400)\" style=\"stroke:#000000; stroke-width:1; stroke-opacity:1; fill:none\" points=\"\n",
       "  199.606,360.121 435.959,360.121 \n",
       "  \"/>\n",
       "<polyline clip-path=\"url(#clip7400)\" style=\"stroke:#000000; stroke-width:1; stroke-opacity:1; fill:none\" points=\"\n",
       "  199.606,360.121 199.606,11.811 \n",
       "  \"/>\n",
       "<polyline clip-path=\"url(#clip7400)\" style=\"stroke:#000000; stroke-width:1; stroke-opacity:1; fill:none\" points=\"\n",
       "  236.925,360.121 236.925,354.896 \n",
       "  \"/>\n",
       "<polyline clip-path=\"url(#clip7400)\" style=\"stroke:#000000; stroke-width:1; stroke-opacity:1; fill:none\" points=\"\n",
       "  299.123,360.121 299.123,354.896 \n",
       "  \"/>\n",
       "<polyline clip-path=\"url(#clip7400)\" style=\"stroke:#000000; stroke-width:1; stroke-opacity:1; fill:none\" points=\"\n",
       "  361.321,360.121 361.321,354.896 \n",
       "  \"/>\n",
       "<polyline clip-path=\"url(#clip7400)\" style=\"stroke:#000000; stroke-width:1; stroke-opacity:1; fill:none\" points=\"\n",
       "  423.519,360.121 423.519,354.896 \n",
       "  \"/>\n",
       "<polyline clip-path=\"url(#clip7400)\" style=\"stroke:#000000; stroke-width:1; stroke-opacity:1; fill:none\" points=\"\n",
       "  199.606,322.802 203.151,322.802 \n",
       "  \"/>\n",
       "<polyline clip-path=\"url(#clip7400)\" style=\"stroke:#000000; stroke-width:1; stroke-opacity:1; fill:none\" points=\"\n",
       "  199.606,260.604 203.151,260.604 \n",
       "  \"/>\n",
       "<polyline clip-path=\"url(#clip7400)\" style=\"stroke:#000000; stroke-width:1; stroke-opacity:1; fill:none\" points=\"\n",
       "  199.606,198.405 203.151,198.405 \n",
       "  \"/>\n",
       "<polyline clip-path=\"url(#clip7400)\" style=\"stroke:#000000; stroke-width:1; stroke-opacity:1; fill:none\" points=\"\n",
       "  199.606,136.207 203.151,136.207 \n",
       "  \"/>\n",
       "<polyline clip-path=\"url(#clip7400)\" style=\"stroke:#000000; stroke-width:1; stroke-opacity:1; fill:none\" points=\"\n",
       "  199.606,74.0092 203.151,74.0092 \n",
       "  \"/>\n",
       "<polyline clip-path=\"url(#clip7400)\" style=\"stroke:#000000; stroke-width:1; stroke-opacity:1; fill:none\" points=\"\n",
       "  199.606,11.811 203.151,11.811 \n",
       "  \"/>\n",
       "<g clip-path=\"url(#clip7400)\">\n",
       "<text style=\"fill:#000000; fill-opacity:1; font-family:Arial,Helvetica Neue,Helvetica,sans-serif; font-size:12; text-anchor:middle;\" transform=\"rotate(0, 236.925, 373.921)\" x=\"236.925\" y=\"373.921\">-1.5</text>\n",
       "</g>\n",
       "<g clip-path=\"url(#clip7400)\">\n",
       "<text style=\"fill:#000000; fill-opacity:1; font-family:Arial,Helvetica Neue,Helvetica,sans-serif; font-size:12; text-anchor:middle;\" transform=\"rotate(0, 299.123, 373.921)\" x=\"299.123\" y=\"373.921\">-1.0</text>\n",
       "</g>\n",
       "<g clip-path=\"url(#clip7400)\">\n",
       "<text style=\"fill:#000000; fill-opacity:1; font-family:Arial,Helvetica Neue,Helvetica,sans-serif; font-size:12; text-anchor:middle;\" transform=\"rotate(0, 361.321, 373.921)\" x=\"361.321\" y=\"373.921\">-0.5</text>\n",
       "</g>\n",
       "<g clip-path=\"url(#clip7400)\">\n",
       "<text style=\"fill:#000000; fill-opacity:1; font-family:Arial,Helvetica Neue,Helvetica,sans-serif; font-size:12; text-anchor:middle;\" transform=\"rotate(0, 423.519, 373.921)\" x=\"423.519\" y=\"373.921\">0.0</text>\n",
       "</g>\n",
       "<g clip-path=\"url(#clip7400)\">\n",
       "<text style=\"fill:#000000; fill-opacity:1; font-family:Arial,Helvetica Neue,Helvetica,sans-serif; font-size:12; text-anchor:end;\" transform=\"rotate(0, 193.606, 327.302)\" x=\"193.606\" y=\"327.302\">-0.5</text>\n",
       "</g>\n",
       "<g clip-path=\"url(#clip7400)\">\n",
       "<text style=\"fill:#000000; fill-opacity:1; font-family:Arial,Helvetica Neue,Helvetica,sans-serif; font-size:12; text-anchor:end;\" transform=\"rotate(0, 193.606, 265.104)\" x=\"193.606\" y=\"265.104\">0.0</text>\n",
       "</g>\n",
       "<g clip-path=\"url(#clip7400)\">\n",
       "<text style=\"fill:#000000; fill-opacity:1; font-family:Arial,Helvetica Neue,Helvetica,sans-serif; font-size:12; text-anchor:end;\" transform=\"rotate(0, 193.606, 202.905)\" x=\"193.606\" y=\"202.905\">0.5</text>\n",
       "</g>\n",
       "<g clip-path=\"url(#clip7400)\">\n",
       "<text style=\"fill:#000000; fill-opacity:1; font-family:Arial,Helvetica Neue,Helvetica,sans-serif; font-size:12; text-anchor:end;\" transform=\"rotate(0, 193.606, 140.707)\" x=\"193.606\" y=\"140.707\">1.0</text>\n",
       "</g>\n",
       "<g clip-path=\"url(#clip7400)\">\n",
       "<text style=\"fill:#000000; fill-opacity:1; font-family:Arial,Helvetica Neue,Helvetica,sans-serif; font-size:12; text-anchor:end;\" transform=\"rotate(0, 193.606, 78.5092)\" x=\"193.606\" y=\"78.5092\">1.5</text>\n",
       "</g>\n",
       "<g clip-path=\"url(#clip7400)\">\n",
       "<text style=\"fill:#000000; fill-opacity:1; font-family:Arial,Helvetica Neue,Helvetica,sans-serif; font-size:12; text-anchor:end;\" transform=\"rotate(0, 193.606, 16.311)\" x=\"193.606\" y=\"16.311\">2.0</text>\n",
       "</g>\n",
       "<g clip-path=\"url(#clip7400)\">\n",
       "<text style=\"fill:#000000; fill-opacity:1; font-family:Arial,Helvetica Neue,Helvetica,sans-serif; font-size:16; text-anchor:middle;\" transform=\"rotate(0, 317.783, 397.6)\" x=\"317.783\" y=\"397.6\">Real</text>\n",
       "</g>\n",
       "<g clip-path=\"url(#clip7400)\">\n",
       "<text style=\"fill:#000000; fill-opacity:1; font-family:Arial,Helvetica Neue,Helvetica,sans-serif; font-size:16; text-anchor:middle;\" transform=\"rotate(-90, 14.4, 185.966)\" x=\"14.4\" y=\"185.966\">Imaginary</text>\n",
       "</g>\n",
       "<polyline clip-path=\"url(#clip7402)\" style=\"stroke:#009af9; stroke-width:3; stroke-opacity:1; fill:none\" points=\"\n",
       "  219.364,108.262 220.512,110.707 221.645,113.111 222.762,115.474 223.864,117.798 224.952,120.084 226.024,122.332 227.081,124.542 228.124,126.715 229.152,128.852 \n",
       "  230.166,130.954 231.166,133.021 232.151,135.053 233.123,137.052 234.082,139.018 235.027,140.95 235.958,142.851 236.877,144.72 237.783,146.558 238.676,148.366 \n",
       "  239.556,150.144 240.424,151.892 241.281,153.611 242.125,155.302 242.958,156.965 243.779,158.601 244.588,160.209 245.387,161.792 246.174,163.348 246.951,164.879 \n",
       "  247.717,166.385 248.472,167.866 249.216,169.323 249.951,170.757 250.675,172.168 251.389,173.555 252.093,174.921 252.787,176.264 253.471,177.586 254.146,178.886 \n",
       "  254.811,180.166 255.466,181.425 256.112,182.663 256.749,183.882 257.377,185.081 257.996,186.262 258.606,187.423 259.207,188.565 259.8,189.689 260.384,190.795 \n",
       "  260.96,191.884 261.527,192.955 262.087,194.009 262.638,195.046 263.182,196.067 263.717,197.071 264.246,198.06 264.766,199.033 265.279,199.99 265.784,200.932 \n",
       "  266.283,201.86 266.774,202.773 267.257,203.671 267.734,204.555 268.204,205.425 268.667,206.281 269.123,207.124 269.573,207.953 270.016,208.77 270.453,209.573 \n",
       "  270.883,210.364 271.307,211.143 271.725,211.909 272.137,212.663 272.542,213.406 272.942,214.136 273.336,214.856 273.724,215.564 274.106,216.261 274.483,216.947 \n",
       "  274.854,217.622 275.219,218.286 275.58,218.941 275.935,219.585 276.284,220.219 276.629,220.843 276.968,221.457 277.303,222.062 277.632,222.657 277.957,223.243 \n",
       "  278.276,223.82 278.592,224.388 278.902,224.947 279.208,225.497 279.509,226.039 279.805,226.572 280.098,227.097 280.386,227.614 280.669,228.122 280.949,228.623 \n",
       "  281.224,229.116 281.495,229.602 281.762,230.08 282.025,230.55 282.284,231.013 282.54,231.469 282.791,231.918 283.039,232.36 283.283,232.795 283.523,233.223 \n",
       "  283.76,233.645 283.993,234.06 284.223,234.469 284.449,234.871 284.672,235.267 284.891,235.657 285.107,236.041 285.32,236.419 285.53,236.792 285.737,237.158 \n",
       "  285.94,237.519 286.14,237.874 286.338,238.224 286.532,238.568 286.724,238.907 286.912,239.24 287.098,239.569 287.281,239.893 287.461,240.211 287.639,240.525 \n",
       "  287.813,240.833 287.985,241.137 288.155,241.436 288.322,241.731 288.486,242.021 288.648,242.307 288.808,242.588 288.965,242.865 289.12,243.137 289.272,243.406 \n",
       "  289.422,243.67 289.57,243.93 289.716,244.186 289.859,244.439 290,244.687 290.139,244.931 290.276,245.172 290.411,245.409 290.544,245.642 290.675,245.872 \n",
       "  290.803,246.098 290.93,246.321 291.055,246.54 291.178,246.756 291.299,246.969 291.419,247.178 291.536,247.384 291.652,247.587 291.766,247.787 291.878,247.984 \n",
       "  291.989,248.178 292.098,248.368 292.205,248.556 292.31,248.741 292.414,248.923 292.517,249.102 292.618,249.279 292.717,249.453 292.815,249.624 292.911,249.792 \n",
       "  293.006,249.958 293.099,250.121 293.191,250.282 293.282,250.441 293.371,250.597 293.459,250.75 293.545,250.901 293.631,251.05 293.714,251.197 293.797,251.341 \n",
       "  293.878,251.483 293.958,251.623 294.037,251.761 294.115,251.896 294.192,252.03 294.267,252.161 294.341,252.291 294.414,252.418 294.486,252.544 294.557,252.667 \n",
       "  294.627,252.789 294.695,252.909 294.763,253.027 294.83,253.143 294.895,253.257 294.96,253.37 295.024,253.481 295.086,253.59 295.148,253.698 295.209,253.804 \n",
       "  \n",
       "  \"/>\n",
       "<polyline clip-path=\"url(#clip7402)\" style=\"stroke:#e26f46; stroke-width:3; stroke-opacity:1; fill:none\" points=\"\n",
       "  423.462,266.832 423.458,266.981 423.454,267.133 423.449,267.29 423.444,267.45 423.439,267.614 423.433,267.783 423.427,267.955 423.42,268.132 423.413,268.313 \n",
       "  423.405,268.499 423.397,268.69 423.388,268.885 423.379,269.085 423.369,269.291 423.358,269.501 423.347,269.717 423.334,269.938 423.321,270.165 423.307,270.397 \n",
       "  423.292,270.636 423.275,270.881 423.258,271.132 423.239,271.389 423.219,271.653 423.198,271.924 423.175,272.202 423.15,272.486 423.124,272.779 423.095,273.079 \n",
       "  423.065,273.386 423.033,273.702 422.998,274.026 422.961,274.358 422.921,274.699 422.878,275.048 422.833,275.407 422.784,275.775 422.731,276.153 422.675,276.54 \n",
       "  422.615,276.938 422.551,277.346 422.482,277.765 422.409,278.194 422.33,278.634 422.246,279.086 422.156,279.55 422.059,280.025 421.956,280.513 421.846,281.013 \n",
       "  421.728,281.526 421.602,282.051 421.467,282.59 421.323,283.142 421.169,283.708 421.005,284.288 420.829,284.881 420.642,285.489 420.441,286.111 420.228,286.748 \n",
       "  419.999,287.399 419.756,288.065 419.496,288.745 419.22,289.441 418.924,290.15 418.61,290.875 418.275,291.613 417.919,292.366 417.54,293.132 417.137,293.912 \n",
       "  416.708,294.704 416.253,295.509 415.769,296.326 415.257,297.153 414.713,297.99 414.137,298.836 413.527,299.69 412.882,300.55 412.201,301.415 411.481,302.282 \n",
       "  410.722,303.151 409.923,304.02 409.082,304.885 408.199,305.745 407.272,306.597 406.3,307.438 405.284,308.265 404.222,309.075 403.115,309.864 401.963,310.63 \n",
       "  400.767,311.369 399.526,312.076 398.244,312.749 396.92,313.382 395.558,313.974 394.16,314.519 392.728,315.014 391.266,315.455 389.779,315.841 388.27,316.167 \n",
       "  386.745,316.431 385.208,316.632 383.665,316.767 382.122,316.836 380.585,316.839 379.06,316.776 377.553,316.648 376.071,316.457 374.62,316.206 373.205,315.899 \n",
       "  371.833,315.539 370.507,315.133 369.233,314.684 368.013,314.201 366.852,313.689 365.75,313.155 364.71,312.608 363.729,312.056 362.809,311.504 361.946,310.962 \n",
       "  361.137,310.436 360.378,309.934 359.663,309.461 358.985,309.022 358.339,308.622 357.715,308.264 357.105,307.949 356.501,307.678 355.892,307.449 355.272,307.259 \n",
       "  354.631,307.104 353.963,306.977 353.261,306.87 352.522,306.774 351.743,306.68 350.923,306.576 350.067,306.451 349.178,306.297 348.263,306.104 347.333,305.865 \n",
       "  346.398,305.576 345.47,305.236 344.561,304.846 343.683,304.41 342.846,303.937 342.058,303.436 341.324,302.92 340.644,302.402 340.016,301.893 339.436,301.407 \n",
       "  338.893,300.954 338.375,300.538 337.871,300.165 337.365,299.832 336.845,299.533 336.302,299.259 335.728,298.998 335.122,298.735 334.488,298.455 333.834,298.147 \n",
       "  333.173,297.803 332.519,297.421 331.888,297.003 331.292,296.559 330.739,296.102 330.231,295.647 329.762,295.209 329.323,294.801 328.899,294.428 328.474,294.088 \n",
       "  328.034,293.776 327.571,293.475 327.084,293.172 326.578,292.851 326.067,292.503 325.568,292.125 325.095,291.726 324.657,291.319 324.254,290.921 323.878,290.545 \n",
       "  323.513,290.197 323.144,289.877 322.758,289.572 322.354,289.267 321.937,288.946 321.523,288.603 321.128,288.242 320.761,287.876 320.421,287.52 320.098,287.186 \n",
       "  319.775,286.876 319.44,286.579 319.09,286.28 318.736,285.967 318.392,285.638 318.07,285.303 317.771,284.978 317.483,284.671 317.191,284.382 316.887,284.098 \n",
       "  316.578,283.804 316.277,283.498 315.994,283.189 315.728,282.892 315.467,282.61 315.198,282.338 314.922,282.062 314.652,281.776 314.398,281.489 314.157,281.212 \n",
       "  313.916,280.949 313.668,280.688 313.421,280.421 313.185,280.151 312.961,279.888 312.739,279.637 312.511,279.388 312.286,279.133 312.073,278.879 311.866,278.634 \n",
       "  311.657,278.396 311.447,278.156 311.246,277.913 311.053,277.679 310.857,277.45 310.662,277.22 310.475,276.99 310.293,276.767 310.109,276.548 309.929,276.327 \n",
       "  309.756,276.109 309.583,275.898 309.411,275.686 309.245,275.476 309.082,275.271 308.919,275.067 308.761,274.865 308.605,274.668 308.45,274.471 308.301,274.277 \n",
       "  308.152,274.086 308.006,273.896 307.863,273.71 307.721,273.526 307.583,273.343 307.446,273.165 307.312,272.987 307.18,272.812 307.05,272.639 306.923,272.468 \n",
       "  306.797,272.3 306.675,272.134 306.553,271.97 306.434,271.808 306.316,271.648 306.201,271.49 306.088,271.334 305.976,271.181 305.867,271.029 305.759,270.88 \n",
       "  305.653,270.732 305.548,270.587 305.446,270.443 305.345,270.301 305.245,270.162 305.148,270.024 305.052,269.887 304.957,269.753 304.864,269.621 304.773,269.49 \n",
       "  304.683,269.361 304.595,269.234 304.508,269.109 304.422,268.985 304.338,268.863 304.255,268.743 304.174,268.625 304.094,268.508 304.015,268.392 303.938,268.279 \n",
       "  303.861,268.166 303.786,268.056 303.713,267.947 303.64,267.839 303.569,267.733 303.498,267.629 303.429,267.525 303.361,267.424 303.294,267.324 303.229,267.225 \n",
       "  303.164,267.127 303.1,267.031 303.038,266.937 302.976,266.843 302.915,266.751 302.856,266.66 302.797,266.571 302.739,266.483 302.682,266.396 302.626,266.31 \n",
       "  \n",
       "  \"/>\n",
       "<polygon clip-path=\"url(#clip7400)\" points=\"\n",
       "329.885,78.051 417.959,78.051 417.959,32.691 329.885,32.691 \n",
       "  \" fill=\"#ffffff\" fill-opacity=\"1\"/>\n",
       "<polyline clip-path=\"url(#clip7400)\" style=\"stroke:#000000; stroke-width:1; stroke-opacity:1; fill:none\" points=\"\n",
       "  329.885,78.051 417.959,78.051 417.959,32.691 329.885,32.691 329.885,78.051 \n",
       "  \"/>\n",
       "<polyline clip-path=\"url(#clip7400)\" style=\"stroke:#009af9; stroke-width:3; stroke-opacity:1; fill:none\" points=\"\n",
       "  335.885,47.811 371.885,47.811 \n",
       "  \"/>\n",
       "<g clip-path=\"url(#clip7400)\">\n",
       "<text style=\"fill:#000000; fill-opacity:1; font-family:Arial,Helvetica Neue,Helvetica,sans-serif; font-size:12; text-anchor:start;\" transform=\"rotate(0, 377.885, 52.311)\" x=\"377.885\" y=\"52.311\">IFRE</text>\n",
       "</g>\n",
       "<polyline clip-path=\"url(#clip7400)\" style=\"stroke:#e26f46; stroke-width:3; stroke-opacity:1; fill:none\" points=\"\n",
       "  335.885,62.931 371.885,62.931 \n",
       "  \"/>\n",
       "<g clip-path=\"url(#clip7400)\">\n",
       "<text style=\"fill:#000000; fill-opacity:1; font-family:Arial,Helvetica Neue,Helvetica,sans-serif; font-size:12; text-anchor:start;\" transform=\"rotate(0, 377.885, 67.431)\" x=\"377.885\" y=\"67.431\">IFRH</text>\n",
       "</g>\n",
       "</svg>\n"
      ]
     },
     "execution_count": 95,
     "metadata": {},
     "output_type": "execute_result"
    }
   ],
   "source": [
    "plot(real(ifre), imag(ifre), linewidth = 3, aspect_ratio = :equal, label=\"IFRE\");\n",
    "plot!(real(ifrh), imag(ifrh), linewidth = 3, aspect_ratio = :equal, label=\"IFRH\");\n",
    "xaxis!(\"Real\"); yaxis!(\"Imaginary\"); xlims!(-1.8, 0.1); ylims!(-0.8, 2)"
   ]
  },
  {
   "cell_type": "markdown",
   "metadata": {},
   "source": [
    "Close enough:\n",
    "\n",
    "<img align=left width=300 src=\"images/IFRplot.png\">"
   ]
  },
  {
   "cell_type": "code",
   "execution_count": 10,
   "metadata": {},
   "outputs": [
    {
     "data": {
      "text/plain": [
       "gaussian_taper (generic function with 1 method)"
      ]
     },
     "execution_count": 10,
     "metadata": {},
     "output_type": "execute_result"
    }
   ],
   "source": [
    "gaussian_taper(r, width, taper) = exp(-r^2*log(taper)/-width^2)"
   ]
  },
  {
   "cell_type": "code",
   "execution_count": 11,
   "metadata": {},
   "outputs": [
    {
     "data": {
      "text/plain": [
       "0.1778279410038923"
      ]
     },
     "execution_count": 11,
     "metadata": {},
     "output_type": "execute_result"
    }
   ],
   "source": [
    "gaussian_taper(5,10,0.001)"
   ]
  },
  {
   "cell_type": "code",
   "execution_count": 15,
   "metadata": {
    "collapsed": true
   },
   "outputs": [],
   "source": [
    "#plot(linspace(0,10,500), 10*log10.(gaussian_taper.(linspace(0,10,500), 10, 0.001)))"
   ]
  },
  {
   "cell_type": "markdown",
   "metadata": {},
   "source": [
    "integral_0^1 exp(-(((x1 - x0) t + x0)^2 + ((y1 - y0) t + y0)^2)/k) dt = (sqrt(π) sqrt(k) (erf((-x0 x1 + x1^2 - y0 y1 + y1^2)/(sqrt(k) sqrt((x0 - x1)^2 + (y0 - y1)^2))) - erf((-x0^2 + x0 x1 + y0 (y1 - y0))/(sqrt(k) sqrt((x0 - x1)^2 + (y0 - y1)^2)))) exp(-(x1 y0 - x0 y1)^2/(k ((x0 - x1)^2 + (y0 - y1)^2))))/(2 sqrt((x0 - x1)^2 + (y0 - y1)^2))\n",
    "\n",
    "(Sqrt[k] Sqrt[Pi] (Erf[(-(x0 x1) + x1^2 - y0 y1 + y1^2)/(Sqrt[k] Sqrt[(x0 - x1)^2 + (y0 - y1)^2])] - Erf[(-x0^2 + x0 x1 + y0 (-y0 + y1))/(Sqrt[k] Sqrt[(x0 - x1)^2 + (y0 - y1)^2])]))/(2 E^((x1 y0 - x0 y1)^2/(k ((x0 - x1)^2 + (y0 - y1)^2))) Sqrt[(x0 - x1)^2 + (y0 - y1)^2])"
   ]
  },
  {
   "cell_type": "markdown",
   "metadata": {
    "collapsed": true
   },
   "source": [
    "$$\\int_0^1 \\exp{\\biggl(-\\frac{((x_1 - x_0) t + x_0)^2 + ((y_1 - y_0) t + y_0)^2}{k}}\\biggr) \\mathrm{dt} =$$"
   ]
  },
  {
   "cell_type": "markdown",
   "metadata": {},
   "source": [
    "$$\\biggl[ \\sqrt{\\pi k} \\biggl(\\mathrm{erf}\\biggl(\\frac{x_1^2 - x_0 x_1 - y_1(y_0 - y_1)}{ \\sqrt{k((x_0 - x_1)^2 + (y_0 - y_1)^2)}}\\biggr) - \\mathrm{erf}\\biggl(\\frac{-x_0^2 + x_0 x_1 + y_0 (y_1 - y_0)}{\\sqrt{k((x_0 - x_1)^2 + (y_0 - y_1)^2)}}\\biggr)\\biggr) \\exp\\biggl(\\frac{-(x_1 y_0 - x_0 y_1)^2}{k ((x_0 - x_1)^2 + (y_0 - y_1)^2)}\\biggr)\\biggr] \\bigg/2 \\sqrt{(x_0 - x_1)^2 + (y_0 - y_1)^2}$$\n"
   ]
  },
  {
   "cell_type": "code",
   "execution_count": 1,
   "metadata": {},
   "outputs": [
    {
     "data": {
      "text/plain": [
       "integrated_taper (generic function with 1 method)"
      ]
     },
     "execution_count": 1,
     "metadata": {},
     "output_type": "execute_result"
    }
   ],
   "source": [
    "    function integrated_taper(x₀, x₁, y₀, y₁, t, k)\n",
    "        d² = (x₀ - x₁)^2 + (y₀ - y₁)^2\n",
    "        kd² = k*d²\n",
    "        sqrtkd² = sqrt(kd²)\n",
    "        i = (sqrt(π*k)*(\n",
    "            erf((x₁^2 - x₀*x₁ - y₁*(y₀-y₁))/sqrtkd²) - \n",
    "            erf((-x₀^2 + x₀*x₁ + y₀*(y₁ - y₀))/sqrtkd²))*exp(-(x₁*y₀ - x₀*y₁)^2/kd²))/(2*sqrt(d²))\n",
    "        return i\n",
    "    end"
   ]
  },
  {
   "cell_type": "code",
   "execution_count": 16,
   "metadata": {},
   "outputs": [
    {
     "data": {
      "text/plain": [
       "read_wrl_data (generic function with 1 method)"
      ]
     },
     "execution_count": 16,
     "metadata": {},
     "output_type": "execute_result"
    }
   ],
   "source": [
    "function read_wrl_data(filename)\n",
    "    f = open(filename)\n",
    "    coord = Float64[]\n",
    "    index = Int64[]\n",
    "    state = :None\n",
    "    for ln in eachline(f)\n",
    "        if contains(ln, \"Coordinate\")\n",
    "            state = :Coord\n",
    "        elseif contains(ln, \"Index\")\n",
    "            state = :Index\n",
    "        end\n",
    "    \n",
    "        if state == :Coord\n",
    "            m = matchall(r\"([-+]?[0-9]*\\.?[0-9]+([eE][-+]?[0-9]+)?)\", ln)\n",
    "            if length(m) == 3\n",
    "                push!(coord, parse.(Float64, m)...)\n",
    "            end\n",
    "        elseif state == :Index\n",
    "            m = match(r\"(\\d+) (\\d+) -1,\",ln)\n",
    "            if typeof(m) == RegexMatch && length(m.captures) == 2\n",
    "                push!(index, parse.(Int64, m.captures)...)\n",
    "            end\n",
    "        end\n",
    "    end\n",
    "    close(f)\n",
    "    coord = reshape(coord, 3, length(coord)÷3)\n",
    "    index = reshape(index, 2, length(index)÷2)\n",
    "    return(coord, index)\n",
    "end"
   ]
  },
  {
   "cell_type": "code",
   "execution_count": 101,
   "metadata": {},
   "outputs": [
    {
     "ename": "LoadError",
     "evalue": "\u001b[91mUndefVarError: read_wrl_data not defined\u001b[39m",
     "output_type": "error",
     "traceback": [
      "\u001b[91mUndefVarError: read_wrl_data not defined\u001b[39m",
      "",
      "Stacktrace:",
      " [1] \u001b[1minclude_string\u001b[22m\u001b[22m\u001b[1m(\u001b[22m\u001b[22m::String, ::String\u001b[1m)\u001b[22m\u001b[22m at \u001b[1m./loading.jl:522\u001b[22m\u001b[22m"
     ]
    }
   ],
   "source": [
    "coord, ind = read_wrl_data(\"foo.wrl\")"
   ]
  },
  {
   "cell_type": "code",
   "execution_count": 28,
   "metadata": {
    "collapsed": true,
    "scrolled": true
   },
   "outputs": [],
   "source": [
    "segments = Array{Float64,2}[]\n",
    "for i in 1:size(ind,2)\n",
    "    push!(segments, hcat(coord[:, ind[1,i]+1],coord[:, ind[2,i]+1]))\n",
    "end\n"
   ]
  },
  {
   "cell_type": "code",
   "execution_count": 29,
   "metadata": {},
   "outputs": [
    {
     "data": {
      "text/plain": [
       "2×480 Array{Int64,2}:\n",
       "  91   0   81  71  76  117  71   9  …  141  141   84  38  38   74  143  60\n",
       " 119  47  113  75  77  150  72  49     144  142  118  45  41  146  149  61"
      ]
     },
     "execution_count": 29,
     "metadata": {},
     "output_type": "execute_result"
    }
   ],
   "source": [
    "ind"
   ]
  },
  {
   "cell_type": "code",
   "execution_count": 30,
   "metadata": {},
   "outputs": [
    {
     "data": {
      "text/plain": [
       "3×2 Array{Float64,2}:\n",
       " -0.688191  -0.638197\n",
       "  0.5        0.262866\n",
       " -0.525731  -0.723607"
      ]
     },
     "execution_count": 30,
     "metadata": {},
     "output_type": "execute_result"
    }
   ],
   "source": [
    "segments[6]"
   ]
  },
  {
   "cell_type": "code",
   "execution_count": 31,
   "metadata": {},
   "outputs": [
    {
     "data": {
      "text/plain": [
       "-0.525731112119"
      ]
     },
     "execution_count": 31,
     "metadata": {},
     "output_type": "execute_result"
    }
   ],
   "source": [
    "segments[6][3,1]"
   ]
  },
  {
   "cell_type": "code",
   "execution_count": 32,
   "metadata": {},
   "outputs": [
    {
     "data": {
      "text/plain": [
       "true"
      ]
     },
     "execution_count": 32,
     "metadata": {},
     "output_type": "execute_result"
    }
   ],
   "source": [
    "using PyPlot; pygui(true)"
   ]
  },
  {
   "cell_type": "code",
   "execution_count": 33,
   "metadata": {
    "collapsed": true
   },
   "outputs": [],
   "source": [
    "for s in segments\n",
    "    if (s[3,1] < -0.1) || (s[3,2] < -0.1)\n",
    "        continue\n",
    "    end\n",
    "#    text3D(c[1, i[1,n]+1], c[2, i[1,n]+1], c[3, i[1,n]+1], @sprintf(\"%d\", i[1,n]))\n",
    "    plot3D(s[1,:], s[2,:], s[3,:], color=\"green\")\n",
    "end\n"
   ]
  },
  {
   "cell_type": "code",
   "execution_count": 34,
   "metadata": {
    "collapsed": true
   },
   "outputs": [],
   "source": [
    "using Rotations"
   ]
  },
  {
   "cell_type": "code",
   "execution_count": 35,
   "metadata": {},
   "outputs": [
    {
     "data": {
      "text/plain": [
       "3-element SVector{3,Float64}:\n",
       " -1.23431\n",
       "  3.66488\n",
       "  2.01124"
      ]
     },
     "execution_count": 35,
     "metadata": {},
     "output_type": "execute_result"
    }
   ],
   "source": [
    "RotXYZ(-0.5,0.3,1.1)*[1,3,3]"
   ]
  },
  {
   "cell_type": "code",
   "execution_count": 36,
   "metadata": {
    "collapsed": true
   },
   "outputs": [],
   "source": [
    "using Distances"
   ]
  },
  {
   "cell_type": "markdown",
   "metadata": {},
   "source": [
    "Circle - line segment intersection\n",
    "\n",
    "https://math.stackexchange.com/a/311956"
   ]
  },
  {
   "cell_type": "code",
   "execution_count": null,
   "metadata": {},
   "outputs": [],
   "source": [
    "struct Point\n",
    "    x::Float64\n",
    "    y::Float64\n",
    "end"
   ]
  },
  {
   "cell_type": "code",
   "execution_count": 2,
   "metadata": {},
   "outputs": [],
   "source": [
    "struct Intersection\n",
    "    p::Point\n",
    "    t::Float64\n",
    "    validity::Bool\n",
    "end"
   ]
  },
  {
   "cell_type": "code",
   "execution_count": null,
   "metadata": {},
   "outputs": [],
   "source": [
    "function is_inside_circle(point::Point, center::Point, radius)\n",
    "    return radius^2 > (point.x - center.x)^2 + (point.y - center.y)^2\n",
    "end"
   ]
  },
  {
   "cell_type": "code",
   "execution_count": 3,
   "metadata": {},
   "outputs": [
    {
     "ename": "LoadError",
     "evalue": "\u001b[91msyntax: invalid character \"−\"\u001b[39m",
     "output_type": "error",
     "traceback": [
      "\u001b[91msyntax: invalid character \"−\"\u001b[39m",
      "",
      "Stacktrace:",
      " [1] \u001b[1minclude_string\u001b[22m\u001b[22m\u001b[1m(\u001b[22m\u001b[22m::String, ::String\u001b[1m)\u001b[22m\u001b[22m at \u001b[1m./loading.jl:522\u001b[22m\u001b[22m"
     ]
    }
   ],
   "source": [
    "function circle_vector_intersection(h, k, r, p₀::Point, p₁::Point)\n",
    "    a = (p₀.x - p₁.x)^2 + (p₀.y - p₁.y)^2\n",
    "b = 2*(p₁.x − p₀.x)*(p₀.x − h) + 2*(p₁.y − p₀.y)*(p₀.y − k)\n",
    "    c = (p₀.x − h)^2 + (p₀.y − k)^2 − r^2\n",
    "    Δ = b^2 - 4*a*c\n",
    "    if Δ > 0 \n",
    "        t1 = (-b + sqrt(Δ))/(2*a)\n",
    "        t2 = (-b - sqrt(Δ))/(2*a)\n",
    "        \n",
    "    else\n",
    "        return Intersection(0.0, 0.0, 0.0, false)\n",
    "    end\n",
    "\n",
    "\n",
    "    t = −b  ±b2−4ac‾‾‾‾‾‾‾‾√2a"
   ]
  },
  {
   "cell_type": "code",
   "execution_count": 37,
   "metadata": {},
   "outputs": [
    {
     "data": {
      "text/plain": [
       "3×2 Array{Float64,2}:\n",
       " -0.687157  -0.809017   \n",
       " -0.681718  -0.587785   \n",
       "  0.251148  -3.43078e-17"
      ]
     },
     "execution_count": 37,
     "metadata": {},
     "output_type": "execute_result"
    }
   ],
   "source": [
    "segments[1]"
   ]
  },
  {
   "cell_type": "code",
   "execution_count": 54,
   "metadata": {},
   "outputs": [
    {
     "name": "stdout",
     "output_type": "stream",
     "text": [
      "  0.000122 seconds (9 allocations: 432 bytes)\n"
     ]
    },
    {
     "data": {
      "text/plain": [
       "1.0000000000002973"
      ]
     },
     "execution_count": 54,
     "metadata": {},
     "output_type": "execute_result"
    }
   ],
   "source": [
    "@time evaluate(Euclidean(),segments[10][:,2], zeros(3))"
   ]
  },
  {
   "cell_type": "code",
   "execution_count": 50,
   "metadata": {
    "collapsed": true
   },
   "outputs": [],
   "source": [
    "using BenchmarkTools"
   ]
  },
  {
   "cell_type": "code",
   "execution_count": 55,
   "metadata": {},
   "outputs": [
    {
     "name": "stdout",
     "output_type": "stream",
     "text": [
      "  0.000023 seconds (8 allocations: 320 bytes)\n"
     ]
    },
    {
     "data": {
      "text/plain": [
       "1.0000000000002973"
      ]
     },
     "execution_count": 55,
     "metadata": {},
     "output_type": "execute_result"
    }
   ],
   "source": [
    "@time sqrt(sum(abs2,segments[10][:,2]))"
   ]
  },
  {
   "cell_type": "code",
   "execution_count": null,
   "metadata": {
    "collapsed": true
   },
   "outputs": [],
   "source": [
    "rotated = Array{Float64,2}[]\n",
    "for s in segments\n",
    "    rotated_mat = similar(s)\n",
    "    rotated_mat[:,1] = RotXYZ(a,b,c)*s[:,1]\n",
    "    rotated_mat[:,2] = RotXYZ(a,b,c)*s[:,2]\n",
    "    if rotated_mat[3,1] > 0 && rotated_mat[3,2] > 0\n",
    "        #sum(abs2, (I.I .- ctr)\n",
    "        #subr\n",
    "        #rim\n",
    "        push!(rotated, rotated_mat)\n",
    "    end\n",
    "end"
   ]
  },
  {
   "cell_type": "code",
   "execution_count": null,
   "metadata": {
    "collapsed": true
   },
   "outputs": [],
   "source": [
    "# within circle"
   ]
  },
  {
   "cell_type": "markdown",
   "metadata": {},
   "source": [
    "<img src=\"images/loss.png\">"
   ]
  },
  {
   "cell_type": "markdown",
   "metadata": {},
   "source": [
    "<img src=\"images/subreflector.png\">"
   ]
  },
  {
   "cell_type": "markdown",
   "metadata": {},
   "source": [
    "<img src=\"images/IFReffect.png\">"
   ]
  },
  {
   "cell_type": "markdown",
   "metadata": {},
   "source": [
    "<img src=\"images/illumination_weight.png\">"
   ]
  },
  {
   "cell_type": "markdown",
   "metadata": {},
   "source": [
    "<img src=\"images/CP.png\">"
   ]
  },
  {
   "cell_type": "code",
   "execution_count": null,
   "metadata": {},
   "outputs": [],
   "source": []
  }
 ],
 "metadata": {
  "kernelspec": {
   "display_name": "Julia 0.6.2",
   "language": "julia",
   "name": "julia-0.6"
  },
  "language_info": {
   "file_extension": ".jl",
   "mimetype": "application/julia",
   "name": "julia",
   "version": "0.6.2"
  }
 },
 "nbformat": 4,
 "nbformat_minor": 2
}
