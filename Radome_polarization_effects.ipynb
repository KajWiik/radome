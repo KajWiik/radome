{
 "cells": [
  {
   "cell_type": "markdown",
   "metadata": {},
   "source": [
    "<img src=\"images/title.png\">"
   ]
  },
  {
   "cell_type": "markdown",
   "metadata": {},
   "source": [
    "<img src=\"images/IFR_geometry.png\" width=600>"
   ]
  },
  {
   "cell_type": "code",
   "execution_count": 3,
   "metadata": {
    "collapsed": true
   },
   "outputs": [],
   "source": [
    "using SpecialFunctions"
   ]
  },
  {
   "cell_type": "code",
   "execution_count": 4,
   "metadata": {},
   "outputs": [
    {
     "data": {
      "text/plain": [
       "besseljprime (generic function with 1 method)"
      ]
     },
     "execution_count": 4,
     "metadata": {},
     "output_type": "execute_result"
    }
   ],
   "source": [
    "besseljprime(ν, x) = (besselj(ν - 1, x) - besselj(ν + 1, x))/2"
   ]
  },
  {
   "cell_type": "code",
   "execution_count": 5,
   "metadata": {},
   "outputs": [
    {
     "data": {
      "text/plain": [
       "hankelh2prime (generic function with 1 method)"
      ]
     },
     "execution_count": 5,
     "metadata": {},
     "output_type": "execute_result"
    }
   ],
   "source": [
    "hankelh2prime(ν, x) = (hankelh2(ν - 1, x) - hankelh2(ν + 1, x))/2"
   ]
  },
  {
   "cell_type": "markdown",
   "metadata": {},
   "source": [
    "<img src=\"images/IFRE.png\" width=600>"
   ]
  },
  {
   "cell_type": "code",
   "execution_count": 6,
   "metadata": {},
   "outputs": [
    {
     "data": {
      "text/plain": [
       "IFRH (generic function with 1 method)"
      ]
     },
     "execution_count": 6,
     "metadata": {},
     "output_type": "execute_result"
    }
   ],
   "source": [
    "function IFRE(w, α)\n",
    "    # w is the support element width in wavelengths\n",
    "    arg = π*w*cos(α)\n",
    "    sum = besselj(0, arg)/hankelh2(0, arg)\n",
    "    prev = 0.0 + 0.0im\n",
    "    for i in 1:100 \n",
    "        sum += besselj(i, arg)/hankelh2(i, arg) + besselj(-i, arg)/hankelh2(-i, arg)\n",
    "        change = abs(sum)/abs(prev)\n",
    "        change = change < 1.0 ? 1/change : change\n",
    "#        println(@sprintf(\"%d %.6f\", i, change))\n",
    "        if change < (1.0 + 1e-6)\n",
    "            break\n",
    "        end\n",
    "        prev = sum\n",
    "    end\n",
    "    return -sum/arg\n",
    "end\n",
    "    \n",
    "        \n",
    "        "
   ]
  },
  {
   "cell_type": "code",
   "execution_count": 7,
   "metadata": {},
   "outputs": [
    {
     "data": {
      "text/plain": [
       "-1.0381064894409588 + 0.06623515641096468im"
      ]
     },
     "execution_count": 7,
     "metadata": {},
     "output_type": "execute_result"
    }
   ],
   "source": [
    "IFRH(15.0,0.0)"
   ]
  },
  {
   "cell_type": "markdown",
   "metadata": {},
   "source": [
    "<img src=\"images/IFRH.png\" width=600>"
   ]
  },
  {
   "cell_type": "code",
   "execution_count": 8,
   "metadata": {},
   "outputs": [
    {
     "data": {
      "text/plain": [
       "IFRE (generic function with 1 method)"
      ]
     },
     "execution_count": 8,
     "metadata": {},
     "output_type": "execute_result"
    }
   ],
   "source": [
    "function IFRH(w, α)\n",
    "    # w is the support element width in wavelengths\n",
    "    arg = π*w*cos(α)\n",
    "    sum = besseljprime(0, arg)/hankelh2prime(0, arg)\n",
    "    prev = 0.0 + 0.0im\n",
    "    for i in 1:100 \n",
    "        sum += besseljprime(i, arg)/hankelh2prime(i, arg) + besseljprime(-i, arg)/hankelh2prime(-i, arg)\n",
    "        change = abs(sum)/abs(prev)\n",
    "        change = change < 1.0 ? 1/change : change\n",
    "#        println(@sprintf(\"%d %.6f\", i, change))\n",
    "        if change < (1.0 + 1e-6)\n",
    "            break\n",
    "        end\n",
    "        prev = sum\n",
    "    end\n",
    "    return -sum/arg\n",
    "end\n"
   ]
  },
  {
   "cell_type": "code",
   "execution_count": 9,
   "metadata": {},
   "outputs": [
    {
     "data": {
      "text/plain": [
       "-0.291523568922654 - 0.44813685565826555im"
      ]
     },
     "execution_count": 9,
     "metadata": {},
     "output_type": "execute_result"
    }
   ],
   "source": [
    "IFRE(0.2,0.0)"
   ]
  },
  {
   "cell_type": "markdown",
   "metadata": {},
   "source": [
    "<img src=\"images/IFRplot.png\" width=400>"
   ]
  },
  {
   "cell_type": "code",
   "execution_count": 10,
   "metadata": {},
   "outputs": [
    {
     "data": {
      "text/plain": [
       "gaussian_taper (generic function with 1 method)"
      ]
     },
     "execution_count": 10,
     "metadata": {},
     "output_type": "execute_result"
    }
   ],
   "source": [
    "gaussian_taper(r, width, taper) = exp(-r^2*log(taper)/-width^2)"
   ]
  },
  {
   "cell_type": "code",
   "execution_count": 11,
   "metadata": {},
   "outputs": [
    {
     "data": {
      "text/plain": [
       "0.1778279410038923"
      ]
     },
     "execution_count": 11,
     "metadata": {},
     "output_type": "execute_result"
    }
   ],
   "source": [
    "gaussian_taper(5,10,0.001)"
   ]
  },
  {
   "cell_type": "code",
   "execution_count": 12,
   "metadata": {
    "collapsed": true
   },
   "outputs": [],
   "source": [
    "#using Plots;pyplot()"
   ]
  },
  {
   "cell_type": "code",
   "execution_count": 13,
   "metadata": {
    "collapsed": true
   },
   "outputs": [],
   "source": [
    "#using Cubature"
   ]
  },
  {
   "cell_type": "code",
   "execution_count": 14,
   "metadata": {
    "collapsed": true
   },
   "outputs": [],
   "source": [
    "#hquadrature(cos, 0.5, 1)[1]"
   ]
  },
  {
   "cell_type": "code",
   "execution_count": 15,
   "metadata": {
    "collapsed": true
   },
   "outputs": [],
   "source": [
    "#plot(linspace(0,10,500), 10*log10.(gaussian_taper.(linspace(0,10,500), 10, 0.001)))"
   ]
  },
  {
   "cell_type": "markdown",
   "metadata": {},
   "source": [
    "integral_0^1 exp(-(((x1 - x0) t + x0)^2 + ((y1 - y0) t + y0)^2)/k) dt = (sqrt(π) sqrt(k) (erf((-x0 x1 + x1^2 - y0 y1 + y1^2)/(sqrt(k) sqrt((x0 - x1)^2 + (y0 - y1)^2))) - erf((-x0^2 + x0 x1 + y0 (y1 - y0))/(sqrt(k) sqrt((x0 - x1)^2 + (y0 - y1)^2)))) exp(-(x1 y0 - x0 y1)^2/(k ((x0 - x1)^2 + (y0 - y1)^2))))/(2 sqrt((x0 - x1)^2 + (y0 - y1)^2))\n",
    "\n",
    "(Sqrt[k] Sqrt[Pi] (Erf[(-(x0 x1) + x1^2 - y0 y1 + y1^2)/(Sqrt[k] Sqrt[(x0 - x1)^2 + (y0 - y1)^2])] - Erf[(-x0^2 + x0 x1 + y0 (-y0 + y1))/(Sqrt[k] Sqrt[(x0 - x1)^2 + (y0 - y1)^2])]))/(2 E^((x1 y0 - x0 y1)^2/(k ((x0 - x1)^2 + (y0 - y1)^2))) Sqrt[(x0 - x1)^2 + (y0 - y1)^2])"
   ]
  },
  {
   "cell_type": "markdown",
   "metadata": {
    "collapsed": true
   },
   "source": [
    "$$\\int_0^1 \\exp{\\biggl(-\\frac{((x_1 - x_0) t + x_0)^2 + ((y_1 - y_0) t + y_0)^2}{k}}\\biggr) \\mathrm{dt} =$$"
   ]
  },
  {
   "cell_type": "markdown",
   "metadata": {},
   "source": [
    "$$\\biggl[ \\sqrt{\\pi k} \\biggl(\\mathrm{erf}\\biggl(\\frac{x_1^2 - x_0 x_1 - y_1(y_0 - y_1)}{ \\sqrt{k((x_0 - x_1)^2 + (y_0 - y_1)^2)}}\\biggr) - \\mathrm{erf}\\biggl(\\frac{-x_0^2 + x_0 x_1 + y_0 (y_1 - y_0)}{\\sqrt{k((x_0 - x_1)^2 + (y_0 - y_1)^2)}}\\biggr)\\biggr) \\exp\\biggl(\\frac{-(x_1 y_0 - x_0 y_1)^2}{k ((x_0 - x_1)^2 + (y_0 - y_1)^2)}\\biggr)\\biggr] \\bigg/2 \\sqrt{(x_0 - x_1)^2 + (y_0 - y_1)^2}$$\n"
   ]
  },
  {
   "cell_type": "code",
   "execution_count": null,
   "metadata": {},
   "outputs": [],
   "source": [
    "function integrated_taper(x0, x1, y0, y1, t, k)\n",
    "    int = (sqrt(π*k)*(erf((x1^2 - x0*x1 - y1*(y0-y1))/sqrt(k*((x0 - x1)^2 + (y0 - y1)^2)) - erf(xxx)))"
   ]
  },
  {
   "cell_type": "code",
   "execution_count": 16,
   "metadata": {},
   "outputs": [
    {
     "data": {
      "text/plain": [
       "read_wrl_data (generic function with 1 method)"
      ]
     },
     "execution_count": 16,
     "metadata": {},
     "output_type": "execute_result"
    }
   ],
   "source": [
    "function read_wrl_data(filename)\n",
    "    f = open(filename)\n",
    "    coord = Float64[]\n",
    "    index = Int64[]\n",
    "    state = :None\n",
    "    for ln in eachline(f)\n",
    "        if contains(ln, \"Coordinate\")\n",
    "            state = :Coord\n",
    "        elseif contains(ln, \"Index\")\n",
    "            state = :Index\n",
    "        end\n",
    "    \n",
    "        if state == :Coord\n",
    "            m = matchall(r\"([-+]?[0-9]*\\.?[0-9]+([eE][-+]?[0-9]+)?)\", ln)\n",
    "            if length(m) == 3\n",
    "                push!(coord, parse.(Float64, m)...)\n",
    "            end\n",
    "        elseif state == :Index\n",
    "            m = match(r\"(\\d+) (\\d+) -1,\",ln)\n",
    "            if typeof(m) == RegexMatch && length(m.captures) == 2\n",
    "                push!(index, parse.(Int64, m.captures)...)\n",
    "            end\n",
    "        end\n",
    "    end\n",
    "    close(f)\n",
    "    coord = reshape(coord, 3, length(coord)÷3)\n",
    "    index = reshape(index, 2, length(index)÷2)\n",
    "    return(coord, index)\n",
    "end"
   ]
  },
  {
   "cell_type": "code",
   "execution_count": 17,
   "metadata": {},
   "outputs": [
    {
     "data": {
      "text/plain": [
       "([0.894427 0.831052 … 0.138197 0.361803; -1.11022e-16 0.238856 … -0.425325 -0.587785; 0.447214 0.502295 … -0.894427 -0.723607], [91 0 … 143 60; 119 47 … 149 61])"
      ]
     },
     "execution_count": 17,
     "metadata": {},
     "output_type": "execute_result"
    }
   ],
   "source": [
    "coord,ind=read_wrl_data(\"foo.wrl\")"
   ]
  },
  {
   "cell_type": "code",
   "execution_count": 28,
   "metadata": {
    "collapsed": true,
    "scrolled": true
   },
   "outputs": [],
   "source": [
    "segments = Array{Float64,2}[]\n",
    "for i in 1:size(ind,2)\n",
    "    push!(segments, hcat(coord[:, ind[1,i]+1],coord[:, ind[2,i]+1]))\n",
    "end\n"
   ]
  },
  {
   "cell_type": "code",
   "execution_count": 29,
   "metadata": {},
   "outputs": [
    {
     "data": {
      "text/plain": [
       "2×480 Array{Int64,2}:\n",
       "  91   0   81  71  76  117  71   9  …  141  141   84  38  38   74  143  60\n",
       " 119  47  113  75  77  150  72  49     144  142  118  45  41  146  149  61"
      ]
     },
     "execution_count": 29,
     "metadata": {},
     "output_type": "execute_result"
    }
   ],
   "source": [
    "ind"
   ]
  },
  {
   "cell_type": "code",
   "execution_count": 30,
   "metadata": {},
   "outputs": [
    {
     "data": {
      "text/plain": [
       "3×2 Array{Float64,2}:\n",
       " -0.688191  -0.638197\n",
       "  0.5        0.262866\n",
       " -0.525731  -0.723607"
      ]
     },
     "execution_count": 30,
     "metadata": {},
     "output_type": "execute_result"
    }
   ],
   "source": [
    "segments[6]"
   ]
  },
  {
   "cell_type": "code",
   "execution_count": 31,
   "metadata": {},
   "outputs": [
    {
     "data": {
      "text/plain": [
       "-0.525731112119"
      ]
     },
     "execution_count": 31,
     "metadata": {},
     "output_type": "execute_result"
    }
   ],
   "source": [
    "segments[6][3,1]"
   ]
  },
  {
   "cell_type": "code",
   "execution_count": 32,
   "metadata": {},
   "outputs": [
    {
     "data": {
      "text/plain": [
       "true"
      ]
     },
     "execution_count": 32,
     "metadata": {},
     "output_type": "execute_result"
    }
   ],
   "source": [
    "using PyPlot; pygui(true)"
   ]
  },
  {
   "cell_type": "code",
   "execution_count": 33,
   "metadata": {
    "collapsed": true
   },
   "outputs": [],
   "source": [
    "for s in segments\n",
    "    if (s[3,1] < -0.1) || (s[3,2] < -0.1)\n",
    "        continue\n",
    "    end\n",
    "#    text3D(c[1, i[1,n]+1], c[2, i[1,n]+1], c[3, i[1,n]+1], @sprintf(\"%d\", i[1,n]))\n",
    "    plot3D(s[1,:], s[2,:], s[3,:], color=\"green\")\n",
    "end\n"
   ]
  },
  {
   "cell_type": "code",
   "execution_count": 34,
   "metadata": {
    "collapsed": true
   },
   "outputs": [],
   "source": [
    "using Rotations"
   ]
  },
  {
   "cell_type": "code",
   "execution_count": 35,
   "metadata": {},
   "outputs": [
    {
     "data": {
      "text/plain": [
       "3-element SVector{3,Float64}:\n",
       " -1.23431\n",
       "  3.66488\n",
       "  2.01124"
      ]
     },
     "execution_count": 35,
     "metadata": {},
     "output_type": "execute_result"
    }
   ],
   "source": [
    "RotXYZ(-0.5,0.3,1.1)*[1,3,3]"
   ]
  },
  {
   "cell_type": "code",
   "execution_count": 36,
   "metadata": {
    "collapsed": true
   },
   "outputs": [],
   "source": [
    "using Distances"
   ]
  },
  {
   "cell_type": "code",
   "execution_count": 37,
   "metadata": {},
   "outputs": [
    {
     "data": {
      "text/plain": [
       "3×2 Array{Float64,2}:\n",
       " -0.687157  -0.809017   \n",
       " -0.681718  -0.587785   \n",
       "  0.251148  -3.43078e-17"
      ]
     },
     "execution_count": 37,
     "metadata": {},
     "output_type": "execute_result"
    }
   ],
   "source": [
    "segments[1]"
   ]
  },
  {
   "cell_type": "code",
   "execution_count": 54,
   "metadata": {},
   "outputs": [
    {
     "name": "stdout",
     "output_type": "stream",
     "text": [
      "  0.000122 seconds (9 allocations: 432 bytes)\n"
     ]
    },
    {
     "data": {
      "text/plain": [
       "1.0000000000002973"
      ]
     },
     "execution_count": 54,
     "metadata": {},
     "output_type": "execute_result"
    }
   ],
   "source": [
    "@time evaluate(Euclidean(),segments[10][:,2], zeros(3))"
   ]
  },
  {
   "cell_type": "code",
   "execution_count": 50,
   "metadata": {
    "collapsed": true
   },
   "outputs": [],
   "source": [
    "using BenchmarkTools"
   ]
  },
  {
   "cell_type": "code",
   "execution_count": 55,
   "metadata": {},
   "outputs": [
    {
     "name": "stdout",
     "output_type": "stream",
     "text": [
      "  0.000023 seconds (8 allocations: 320 bytes)\n"
     ]
    },
    {
     "data": {
      "text/plain": [
       "1.0000000000002973"
      ]
     },
     "execution_count": 55,
     "metadata": {},
     "output_type": "execute_result"
    }
   ],
   "source": [
    "@time sqrt(sum(abs2,segments[10][:,2]))"
   ]
  },
  {
   "cell_type": "code",
   "execution_count": null,
   "metadata": {
    "collapsed": true
   },
   "outputs": [],
   "source": [
    "rotated = Array{Float64,2}[]\n",
    "for s in segments\n",
    "    rotated_mat = similar(s)\n",
    "    rotated_mat[:,1] = RotXYZ(a,b,c)*s[:,1]\n",
    "    rotated_mat[:,2] = RotXYZ(a,b,c)*s[:,2]\n",
    "    if rotated_mat[3,1] > 0 && rotated_mat[3,2] > 0\n",
    "        #sum(abs2, (I.I .- ctr)\n",
    "        #subr\n",
    "        #rim\n",
    "        push!(rotated, rotated_mat)\n",
    "    end\n",
    "end"
   ]
  },
  {
   "cell_type": "code",
   "execution_count": null,
   "metadata": {
    "collapsed": true
   },
   "outputs": [],
   "source": [
    "# within circle"
   ]
  },
  {
   "cell_type": "markdown",
   "metadata": {},
   "source": [
    "<img src=\"images/loss.png\">"
   ]
  },
  {
   "cell_type": "markdown",
   "metadata": {},
   "source": [
    "<img src=\"images/subreflector.png\">"
   ]
  },
  {
   "cell_type": "markdown",
   "metadata": {},
   "source": [
    "<img src=\"images/IFReffect.png\">"
   ]
  },
  {
   "cell_type": "markdown",
   "metadata": {},
   "source": [
    "<img src=\"images/illumination_weight.png\">"
   ]
  },
  {
   "cell_type": "markdown",
   "metadata": {},
   "source": [
    "<img src=\"images/CP.png\">"
   ]
  },
  {
   "cell_type": "code",
   "execution_count": null,
   "metadata": {},
   "outputs": [],
   "source": []
  }
 ],
 "metadata": {
  "kernelspec": {
   "display_name": "Julia 0.6.2",
   "language": "julia",
   "name": "julia-0.6"
  },
  "language_info": {
   "file_extension": ".jl",
   "mimetype": "application/julia",
   "name": "julia",
   "version": "0.6.2"
  }
 },
 "nbformat": 4,
 "nbformat_minor": 2
}
